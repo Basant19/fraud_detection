{
 "cells": [
  {
   "cell_type": "code",
   "execution_count": 1,
   "id": "6688cba9",
   "metadata": {},
   "outputs": [],
   "source": [
    "import os\n",
    "import glob\n",
    "import logging\n",
    "import pandas as pd\n",
    "from pymongo import MongoClient\n",
    "from dotenv import load_dotenv"
   ]
  },
  {
   "cell_type": "code",
   "execution_count": 2,
   "id": "1f88f230",
   "metadata": {},
   "outputs": [],
   "source": [
    "# --------------------------\n",
    "# 1. Setup Logging\n",
    "# --------------------------\n",
    "logging.basicConfig(\n",
    "    level=logging.INFO,\n",
    "    format=\"%(asctime)s - %(levelname)s - %(message)s\"\n",
    ")"
   ]
  },
  {
   "cell_type": "code",
   "execution_count": 3,
   "id": "09958fcd",
   "metadata": {},
   "outputs": [],
   "source": [
    "# --------------------------\n",
    "# 2. Load environment variables\n",
    "# --------------------------\n",
    "load_dotenv()\n",
    "\n",
    "MONGO_URI = os.environ.get(\"MONGO_URI\")\n",
    "DB_NAME = os.environ.get(\"DB_NAME\")\n",
    "DATA_PATH = os.environ.get(\"DATA_PATH\", \"data\")\n",
    "\n",
    "if not MONGO_URI or not DB_NAME:\n",
    "    raise ValueError(\"❌ Missing required environment variables: MONGO_URI or DB_NAME\")"
   ]
  },
  {
   "cell_type": "code",
   "execution_count": 6,
   "id": "fc07ba89",
   "metadata": {},
   "outputs": [
    {
     "name": "stderr",
     "output_type": "stream",
     "text": [
      "2025-09-15 00:46:06,465 - INFO - Connected to MongoDB Database: fraud_detection\n",
      "2025-09-15 00:46:06,465 - INFO - Found 10 CSV files in D:/fraud_detection/data\n",
      "2025-09-15 00:46:06,465 - INFO - Processing D:/fraud_detection/data\\Customer Profiles\\account_activity.csv -> Collection: account_activity\n",
      "2025-09-15 00:46:07,050 - INFO - ✅ Uploaded 1000 records to collection: account_activity\n",
      "2025-09-15 00:46:07,050 - INFO - Processing D:/fraud_detection/data\\Customer Profiles\\customer_data.csv -> Collection: customer_data\n",
      "2025-09-15 00:46:07,204 - INFO - ✅ Uploaded 1000 records to collection: customer_data\n",
      "2025-09-15 00:46:07,204 - INFO - Processing D:/fraud_detection/data\\Fraudulent Patterns\\fraud_indicators.csv -> Collection: fraud_indicators\n",
      "2025-09-15 00:46:07,313 - INFO - ✅ Uploaded 1000 records to collection: fraud_indicators\n",
      "2025-09-15 00:46:07,313 - INFO - Processing D:/fraud_detection/data\\Fraudulent Patterns\\suspicious_activity.csv -> Collection: suspicious_activity\n",
      "2025-09-15 00:46:07,429 - INFO - ✅ Uploaded 1000 records to collection: suspicious_activity\n",
      "2025-09-15 00:46:07,430 - INFO - Processing D:/fraud_detection/data\\Merchant Information\\merchant_data.csv -> Collection: merchant_data\n",
      "2025-09-15 00:46:07,563 - INFO - ✅ Uploaded 1000 records to collection: merchant_data\n",
      "2025-09-15 00:46:07,563 - INFO - Processing D:/fraud_detection/data\\Merchant Information\\transaction_category_labels.csv -> Collection: transaction_category_labels\n",
      "2025-09-15 00:46:07,705 - INFO - ✅ Uploaded 1000 records to collection: transaction_category_labels\n",
      "2025-09-15 00:46:07,708 - INFO - Processing D:/fraud_detection/data\\Transaction Amounts\\amount_data.csv -> Collection: amount_data\n",
      "2025-09-15 00:46:07,833 - INFO - ✅ Uploaded 1000 records to collection: amount_data\n",
      "2025-09-15 00:46:07,833 - INFO - Processing D:/fraud_detection/data\\Transaction Amounts\\anomaly_scores.csv -> Collection: anomaly_scores\n",
      "2025-09-15 00:46:07,954 - INFO - ✅ Uploaded 1000 records to collection: anomaly_scores\n",
      "2025-09-15 00:46:07,954 - INFO - Processing D:/fraud_detection/data\\Transaction Data\\transaction_metadata.csv -> Collection: transaction_metadata\n",
      "2025-09-15 00:46:08,117 - INFO - ✅ Uploaded 1000 records to collection: transaction_metadata\n",
      "2025-09-15 00:46:08,117 - INFO - Processing D:/fraud_detection/data\\Transaction Data\\transaction_records.csv -> Collection: transaction_records\n",
      "2025-09-15 00:46:08,339 - INFO - ✅ Uploaded 1000 records to collection: transaction_records\n"
     ]
    }
   ],
   "source": [
    "# --------------------------\n",
    "# 3. Connect to MongoDB with context manager\n",
    "# --------------------------\n",
    "with MongoClient(MONGO_URI) as client:\n",
    "    db = client[DB_NAME]\n",
    "    logging.info(f\"Connected to MongoDB Database: {DB_NAME}\")\n",
    "\n",
    "    # --------------------------\n",
    "    # 4. Read all CSV files from data folder\n",
    "    # --------------------------\n",
    "    csv_files = glob.glob(os.path.join(DATA_PATH, \"**\", \"*.csv\"), recursive=True)\n",
    "    logging.info(f\"Found {len(csv_files)} CSV files in {DATA_PATH}\")\n",
    "\n",
    "    # --------------------------\n",
    "    # 5. Upload each CSV as a collection\n",
    "    # --------------------------\n",
    "    for file in csv_files:\n",
    "        collection_name = os.path.splitext(os.path.basename(file))[0]\n",
    "\n",
    "        logging.info(f\"Processing {file} -> Collection: {collection_name}\")\n",
    "\n",
    "        try:\n",
    "            df = pd.read_csv(file)\n",
    "            if df.empty:\n",
    "                logging.warning(f\"Skipped empty file: {file}\")\n",
    "                continue\n",
    "\n",
    "            records = df.to_dict(orient=\"records\")\n",
    "\n",
    "            # Optional: Clear existing collection before inserting\n",
    "            db[collection_name].delete_many({})\n",
    "            db[collection_name].insert_many(records)\n",
    "\n",
    "            logging.info(f\"✅ Uploaded {len(records)} records to collection: {collection_name}\")\n",
    "\n",
    "        except Exception as e:\n",
    "            logging.error(f\"❌ Failed to process {file}: {e}\")"
   ]
  },
  {
   "cell_type": "code",
   "execution_count": null,
   "id": "39fd9ab8",
   "metadata": {},
   "outputs": [
    {
     "name": "stderr",
     "output_type": "stream",
     "text": [
      "2025-09-15 00:50:14,505 - INFO - Sample data from transaction_records collection:\n"
     ]
    },
    {
     "data": {
      "text/html": [
       "<div>\n",
       "<style scoped>\n",
       "    .dataframe tbody tr th:only-of-type {\n",
       "        vertical-align: middle;\n",
       "    }\n",
       "\n",
       "    .dataframe tbody tr th {\n",
       "        vertical-align: top;\n",
       "    }\n",
       "\n",
       "    .dataframe thead th {\n",
       "        text-align: right;\n",
       "    }\n",
       "</style>\n",
       "<table border=\"1\" class=\"dataframe\">\n",
       "  <thead>\n",
       "    <tr style=\"text-align: right;\">\n",
       "      <th></th>\n",
       "      <th>_id</th>\n",
       "      <th>TransactionID</th>\n",
       "      <th>Amount</th>\n",
       "      <th>CustomerID</th>\n",
       "    </tr>\n",
       "  </thead>\n",
       "  <tbody>\n",
       "    <tr>\n",
       "      <th>0</th>\n",
       "      <td>68c71478eeeb4d385a4cfc4d</td>\n",
       "      <td>1</td>\n",
       "      <td>55.530334</td>\n",
       "      <td>1952</td>\n",
       "    </tr>\n",
       "    <tr>\n",
       "      <th>1</th>\n",
       "      <td>68c71478eeeb4d385a4cfc4e</td>\n",
       "      <td>2</td>\n",
       "      <td>12.881180</td>\n",
       "      <td>1027</td>\n",
       "    </tr>\n",
       "    <tr>\n",
       "      <th>2</th>\n",
       "      <td>68c71478eeeb4d385a4cfc4f</td>\n",
       "      <td>3</td>\n",
       "      <td>50.176322</td>\n",
       "      <td>1955</td>\n",
       "    </tr>\n",
       "    <tr>\n",
       "      <th>3</th>\n",
       "      <td>68c71478eeeb4d385a4cfc50</td>\n",
       "      <td>4</td>\n",
       "      <td>41.634001</td>\n",
       "      <td>1796</td>\n",
       "    </tr>\n",
       "    <tr>\n",
       "      <th>4</th>\n",
       "      <td>68c71478eeeb4d385a4cfc51</td>\n",
       "      <td>5</td>\n",
       "      <td>78.122853</td>\n",
       "      <td>1946</td>\n",
       "    </tr>\n",
       "  </tbody>\n",
       "</table>\n",
       "</div>"
      ],
      "text/plain": [
       "                        _id  TransactionID     Amount  CustomerID\n",
       "0  68c71478eeeb4d385a4cfc4d              1  55.530334        1952\n",
       "1  68c71478eeeb4d385a4cfc4e              2  12.881180        1027\n",
       "2  68c71478eeeb4d385a4cfc4f              3  50.176322        1955\n",
       "3  68c71478eeeb4d385a4cfc50              4  41.634001        1796\n",
       "4  68c71478eeeb4d385a4cfc51              5  78.122853        1946"
      ]
     },
     "metadata": {},
     "output_type": "display_data"
    }
   ],
   "source": [
    "with MongoClient(MONGO_URI) as client:\n",
    "    db = client[DB_NAME]  \n",
    "    \n",
    "    try:\n",
    "        # Fetch records from collection\n",
    "        transaction_records = pd.DataFrame(list(db[\"transaction_records\"].find()))\n",
    "        \n",
    "        logging.info(\"Sample data from transaction_records collection:\")\n",
    "        display(transaction_records.head())  \n",
    "        \n",
    "    except Exception as e:\n",
    "        logging.error(f\"❌ Failed to fetch data: {e}\")"
   ]
  }
 ],
 "metadata": {
  "kernelspec": {
   "display_name": "Python 3",
   "language": "python",
   "name": "python3"
  },
  "language_info": {
   "codemirror_mode": {
    "name": "ipython",
    "version": 3
   },
   "file_extension": ".py",
   "mimetype": "text/x-python",
   "name": "python",
   "nbconvert_exporter": "python",
   "pygments_lexer": "ipython3",
   "version": "3.11.9"
  }
 },
 "nbformat": 4,
 "nbformat_minor": 5
}
